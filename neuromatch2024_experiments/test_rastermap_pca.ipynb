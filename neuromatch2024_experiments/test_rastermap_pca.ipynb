{
 "cells": [
  {
   "cell_type": "code",
   "execution_count": 3,
   "id": "d20e5530",
   "metadata": {},
   "outputs": [
    {
     "name": "stdout",
     "output_type": "stream",
     "text": [
      "RNNQNetwork(\n",
      "  (rnn): RNN(10, 64)\n",
      "  (fc): Linear(in_features=64, out_features=6, bias=True)\n",
      ")\n",
      "(120, 64)\n",
      "[[0.0000000e+00 3.8050385e+00 0.0000000e+00 ... 0.0000000e+00\n",
      "  0.0000000e+00 1.3669942e+02]\n",
      " [0.0000000e+00 0.0000000e+00 0.0000000e+00 ... 0.0000000e+00\n",
      "  0.0000000e+00 4.7393488e+02]\n",
      " [0.0000000e+00 0.0000000e+00 0.0000000e+00 ... 0.0000000e+00\n",
      "  0.0000000e+00 7.8796857e+02]\n",
      " ...\n",
      " [5.1718836e+04 0.0000000e+00 0.0000000e+00 ... 0.0000000e+00\n",
      "  0.0000000e+00 0.0000000e+00]\n",
      " [0.0000000e+00 0.0000000e+00 0.0000000e+00 ... 0.0000000e+00\n",
      "  0.0000000e+00 4.0424992e+04]\n",
      " [7.5349544e+05 0.0000000e+00 8.8180962e+05 ... 7.2535531e+05\n",
      "  0.0000000e+00 1.5883180e+06]]\n"
     ]
    }
   ],
   "source": [
    "from experiments import experiments\n",
    "from agents import DQNAgent\n",
    "from environments import DelaySampleToMatchEnv\n",
    "from eval_scripts import prepare_data\n",
    "import numpy as np\n",
    "import matplotlib.pyplot as plt\n",
    "\n",
    "\n",
    "def move_tuple_to_device(hidden_tuple, device):\n",
    "    return (hidden_tuple[0].to(device), hidden_tuple[1].to(device))\n",
    "\n",
    "\n",
    "experiment = experiments[('short-seq', 'cifar10-seq', 'MSELoss', 'RNN')]\n",
    "env = DelaySampleToMatchEnv(n_stimuli=experiment['action_size'] - 1)\n",
    "agent = DQNAgent(experiment)\n",
    "\n",
    "agent.load_model('eval')\n",
    "\n",
    "agent.epsilon = 0.00\n",
    "\n",
    "print(agent.q_network)\n",
    "\n",
    "n_episodes = 10\n",
    "win_pct_list = []\n",
    "scores = []\n",
    "hids = []\n",
    "\n",
    "train_data, class_dct = prepare_data()\n",
    "\n",
    "for i in range(n_episodes):\n",
    "    done = False\n",
    "    state = env.reset()  # Reset the environment\n",
    "    indices = class_dct[int(state)]\n",
    "    random_index = np.random.choice(indices)\n",
    "    state = train_data[random_index].flatten()\n",
    "    score = 0\n",
    "    hidden = agent.q_network.init_hidden()\n",
    "    if isinstance(hidden, tuple):\n",
    "        hidden = move_tuple_to_device(hidden, agent.device)\n",
    "    else:\n",
    "        hidden = hidden.to(agent.device)\n",
    "    while not done:\n",
    "        action, next_hidden = agent.select_action(state, hidden)\n",
    "        next_state, reward, done, info = env.step(action)  # Take the action\n",
    "        indices = class_dct[int(next_state)]\n",
    "        random_index = np.random.choice(indices)\n",
    "        next_state = train_data[random_index].flatten()\n",
    "        hidden = next_hidden\n",
    "        # hids.append(hidden)\n",
    "        state = next_state  # Move to the next state\n",
    "        score += reward\n",
    "        if isinstance(hidden, tuple):\n",
    "            hids.append(hidden[0].detach().cpu().numpy())\n",
    "        else:\n",
    "            hids.append(hidden.detach().cpu().numpy())\n",
    "\n",
    "\n",
    "hids = np.array(hids).squeeze(1).squeeze(1)\n",
    "print(hids.shape)\n",
    "print(hids)\n"
   ]
  }
 ],
 "metadata": {
  "kernelspec": {
   "display_name": "Python 3 (ipykernel)",
   "language": "python",
   "name": "python3"
  },
  "language_info": {
   "codemirror_mode": {
    "name": "ipython",
    "version": 3
   },
   "file_extension": ".py",
   "mimetype": "text/x-python",
   "name": "python",
   "nbconvert_exporter": "python",
   "pygments_lexer": "ipython3",
   "version": "3.9.13"
  }
 },
 "nbformat": 4,
 "nbformat_minor": 5
}
